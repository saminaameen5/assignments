{
 "cells": [
  {
   "cell_type": "code",
   "execution_count": 12,
   "metadata": {},
   "outputs": [
    {
     "ename": "IndentationError",
     "evalue": "unindent does not match any outer indentation level (<tokenize>, line 26)",
     "output_type": "error",
     "traceback": [
      "\u001b[1;36m  File \u001b[1;32m\"<tokenize>\"\u001b[1;36m, line \u001b[1;32m26\u001b[0m\n\u001b[1;33m    \"cell_type\": \"code\",\u001b[0m\n\u001b[1;37m    ^\u001b[0m\n\u001b[1;31mIndentationError\u001b[0m\u001b[1;31m:\u001b[0m unindent does not match any outer indentation level\n"
     ]
    }
   ],
   "source": [
    "#q.1\n",
    "#Object-oriented programming (OOP) refers to a type of computer programming (software design) in which programmers define not only the data type of a data structure, but also the types of operations (functions) that can be applied to the data structure.\n",
    "#In this way, the data structure becomes an object that includes both data and functions. In addition, programmers can create relationships between one object and another. For example, objects can inherit characteristics from other objects.\n",
    "\n",
    "#q.2\n",
    "#It provides a clear modular structure for programs which makes it good for defining abstract datatypes in which implementation details are hidden\n",
    "#Objects can also be reused within an across applications.\n",
    "#It makes software easier to maintain. \n",
    "#It makes software easier to maintain. \n",
    "\n",
    "#q.3\n",
    "#Python method is called on an object, unlike a function. In our example above, we call start() on the object ‘car’. Conversely, we call Python function quite generically- we don’t call it on any object. Since we call a method on an object, it can access the data within it.\n",
    "#A method may alter an object’s state, but Python function usually only operates on it, and then prints something or returns a value.\n",
    "\n",
    "#q.4\n",
    "#A blueprint created by a programmer for an object. This defines a set of attributes that will characterize any object that is instantiated from this class.\n",
    "#An instance of a class. This is the realized version of the class, where the class is manifested in the program.\n",
    "#A class attribute is a Python variable that belongs to a class rather than a particular object. It is shared between all the objects of this class and it is defined outside the constructor function, __init__(self,...) , of the class.\n",
    "#Competencies are simply combinations of skills and behaviors and are easily identified and measured.raits are ingrained behaviors that are mostly permanent and difficult to change\n",
    "    class Car:\n",
    "        def __init__(self, name, brand, model, color, doors):\n",
    "            self.name = name\n",
    "            self.brand = brand\n",
    "            self.model = model\n",
    "            self.color =  color\n",
    "            self.doors = doors\n",
    "        def printCar(self):\n",
    "            print(self.name,self.brand, self.model, self.color, self.doors)\n",
    "        def drive(self):\n",
    "            print(self.name, \\\"is now being driven.\\\")\n",
    "        def stop(self):\n",
    "            print(self.name, \\\"is stopped.\\\")\n",
    "    car1 = Car(\\\"Mehran\\\", \\\"Suzuki\\\", \\\"2009\\\", \\\"White\\\", 4)\n",
    "    car2 = Car(\\\"Lamborghini\\\", \\\"Lambo\\\", \\\"2010\\\", \\\"Blue\\\", 2)\n",
    "    car3 = Car(\\\"Fe22\\\", \\\"Ferrari\\\", \\\"2011\\\", \\\"Green\\\", 4)\n",
    "    car4 = Car(\\\"Corolla\\\", \\\"Toyota\\\", \\\"2012\\\", \\\"Red\\\", 2)\n",
    "    car5 = Car(\\\"Vitz\\\", \\\"Honda\\\", \\\"2019\\\", \\\"Gray\\\", 4)\n",
    "    car2.printCar()\n",
    "    car5.stop()\n",
    "    car3.drive()\n",
    "   \n",
    "\n",
    "   \"cell_type\": \"code\",\n",
    "   \"execution_count\": null,\n",
    "   \"metadata\": {},\n",
    "   \"outputs\": [],\n",
    "   \"source\": []\n",
    "  \n",
    " \n",
    " \"metadata\": \n",
    "  \"kernelspec\": \n",
    "   \"display_name\": \"Python 3\",\n",
    "   \"language\": \"python\",\n",
    "   \"name\": \"python3\"\n",
    "  \n",
    "  \"language_info\": \n",
    "   \"codemirror_mode\": \n",
    "    \"name\": \"ipython\",\n",
    "    \"version\": 3\n",
    "\n",
    "   \"file_extension\": \".py\",\n",
    "   \"mimetype\": \"text/x-python\",\n",
    "   \"name\": \"python\",\n",
    "   \"nbconvert_exporter\": \"python\",\n",
    "   \"pygments_lexer\": \"ipython3\",\n",
    "   \"version\": \"3.7.5\"\n",
    "  \n",
    " \n",
    " \"nbformat\": 4,\n",
    " \"nbformat_minor\": 2\n"
   ]
  },
  {
   "cell_type": "code",
   "execution_count": null,
   "metadata": {},
   "outputs": [],
   "source": []
  },
  {
   "cell_type": "code",
   "execution_count": null,
   "metadata": {},
   "outputs": [],
   "source": []
  }
 ],
 "metadata": {
  "kernelspec": {
   "display_name": "Python 3",
   "language": "python",
   "name": "python3"
  },
  "language_info": {
   "codemirror_mode": {
    "name": "ipython",
    "version": 3
   },
   "file_extension": ".py",
   "mimetype": "text/x-python",
   "name": "python",
   "nbconvert_exporter": "python",
   "pygments_lexer": "ipython3",
   "version": "3.7.4"
  }
 },
 "nbformat": 4,
 "nbformat_minor": 2
}
