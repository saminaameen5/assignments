{
 "cells": [
  {
   "cell_type": "code",
   "execution_count": 9,
   "metadata": {},
   "outputs": [
    {
     "name": "stdout",
     "output_type": "stream",
     "text": [
      "first_name : samina\n",
      "last_name : amin\n",
      "city : Karachi\n",
      "age : 21\n"
     ]
    }
   ],
   "source": [
    "person_info = {\"first_name\": \"samina\", \"last_name\": \"amin\", \"city\": \"Karachi\", \"age\": 21}\n",
    "person_info[\"qualification\"] = \"Graduation\"\n",
    "person_info[\"qualification\"] = \"PhD\"\n",
    "person_info.pop(\"qualification\")\n",
    "for key, value in person_info.items():\n",
    "    print(key,\":\", value)"
   ]
  },
  {
   "cell_type": "code",
   "execution_count": 17,
   "metadata": {},
   "outputs": [
    {
     "name": "stdout",
     "output_type": "stream",
     "text": [
      "karachi {'country': 'Pakistan', 'population': '230M', 'face': 'Karachi is for everyone'}\n",
      "mumbai {'country': 'India', 'population': '200M', 'face': 'Very hot'}\n",
      "tokyo {'countrry': 'Japan', 'population': '13.9M', 'face': 'Tech Hub'}\n"
     ]
    }
   ],
   "source": [
    "cities = {\n",
    "    \"karachi\":{\n",
    "        \"country\": \"Pakistan\",\n",
    "        \"population\": \"230M\",\n",
    "        \"face\":\"Karachi is for everyone\",\n",
    "    },\n",
    "    \"mumbai\":{\n",
    "        \"country\": \"India\",\n",
    "        \"population\": \"200M\",\n",
    "        \"face\": \"Very hot\",\n",
    "    },\n",
    "    \"tokyo\":{\n",
    "        \"countrry\": \"Japan\",\n",
    "        \"population\": \"13.9M\",\n",
    "        \"face\": \"Tech Hub\",\n",
    "    },\n",
    "}\n",
    "for key, value in cities.items():\n",
    "    print(key, value)"
   ]
  },
  {
   "cell_type": "code",
   "execution_count": null,
   "metadata": {},
   "outputs": [
    {
     "name": "stdout",
     "output_type": "stream",
     "text": [
      "Enter your age: 20\n",
      "The ticket for you is $15.\n"
     ]
    }
   ],
   "source": [
    "for i in range(1,4):\n",
    "    age = int(input(\"Enter your age: \"))\n",
    "    if age>0 and age<3:\n",
    "        print(\"The ticket for you is free.\")\n",
    "    elif age>3 and age<13:\n",
    "        print(\"The tick for you us $10.\")\n",
    "    else:\n",
    "        print(\"The ticket for you is $15.\")"
   ]
  },
  {
   "cell_type": "code",
   "execution_count": 1,
   "metadata": {},
   "outputs": [
    {
     "name": "stdout",
     "output_type": "stream",
     "text": [
      "One of my favorite books is three little kittens\n"
     ]
    }
   ],
   "source": [
    "def favorite_book(title):\n",
    "    print(\"One of my favorite books is\", title)\n",
    "favorite_book(\"three little kittens\")"
   ]
  },
  {
   "cell_type": "code",
   "execution_count": null,
   "metadata": {},
   "outputs": [
    {
     "name": "stdout",
     "output_type": "stream",
     "text": [
      "Enter your guess(1-30): 4\n",
      "You guessed to low\n"
     ]
    }
   ],
   "source": [
    "from random import randint\n",
    "random_number = randint(1,31)\n",
    "for i in range(1,4):\n",
    "    guess = int(input(\"Enter your guess(1-30): \"))\n",
    "    if guess > random_number:\n",
    "        print(\"You guessed too high.\")\n",
    "    elif guess < random_number:\n",
    "        print(\"You guessed to low\")\n",
    "    elif guess == random_number:\n",
    "        print(\"You won!\")\n",
    "        break\n",
    "    else:\n",
    "        pass"
   ]
  },
  {
   "cell_type": "code",
   "execution_count": null,
   "metadata": {},
   "outputs": [],
   "source": []
  },
  {
   "cell_type": "code",
   "execution_count": null,
   "metadata": {},
   "outputs": [],
   "source": []
  }
 ],
 "metadata": {
  "kernelspec": {
   "display_name": "Python 3",
   "language": "python",
   "name": "python3"
  },
  "language_info": {
   "codemirror_mode": {
    "name": "ipython",
    "version": 3
   },
   "file_extension": ".py",
   "mimetype": "text/x-python",
   "name": "python",
   "nbconvert_exporter": "python",
   "pygments_lexer": "ipython3",
   "version": "3.7.4"
  }
 },
 "nbformat": 4,
 "nbformat_minor": 2
}
